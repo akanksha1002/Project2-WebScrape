{
 "cells": [
  {
   "cell_type": "code",
   "execution_count": 52,
   "metadata": {
    "collapsed": true
   },
   "outputs": [],
   "source": [
    "from selenium import webdriver\n",
    "from selenium.webdriver.common.by import By\n",
    "from selenium.webdriver.support.ui import WebDriverWait\n",
    "from selenium.webdriver.support import expected_conditions as EC\n",
    "import time\n",
    "import csv"
   ]
  },
  {
   "cell_type": "code",
   "execution_count": 368,
   "metadata": {
    "collapsed": true
   },
   "outputs": [],
   "source": [
    " driver = webdriver.Chrome(r\"C:\\Users\\hans\\chromedriver.exe\")"
   ]
  },
  {
   "cell_type": "code",
   "execution_count": 369,
   "metadata": {
    "collapsed": true
   },
   "outputs": [],
   "source": [
    "#popular_dest= ['LAX', 'HNL', 'SFO', 'MIA', 'LAS']\n",
    "\n",
    "url= \"https://www.tripadvisor.com/CheapFlightsSearchResults-a_airport0.NYC-a_airport1.LAX-a_date0.20171031.html\"\n"
   ]
  },
  {
   "cell_type": "code",
   "execution_count": 370,
   "metadata": {},
   "outputs": [],
   "source": [
    "driver.get(url)"
   ]
  },
  {
   "cell_type": "code",
   "execution_count": 374,
   "metadata": {},
   "outputs": [],
   "source": [
    "flights = driver.find_elements_by_class_name('entry')\n",
    "#print(flights[0])"
   ]
  },
  {
   "cell_type": "code",
   "execution_count": 375,
   "metadata": {},
   "outputs": [],
   "source": [
    "flights[0].find_element_by_xpath('.//div[@class=\"toggleDetails showDetails\"]').click()\n",
    "flights[0].find_element_by_xpath('.//li[@class=\"detailTab reviewsTab\"]').click()\n",
    "\n",
    "   "
   ]
  },
  {
   "cell_type": "code",
   "execution_count": 376,
   "metadata": {},
   "outputs": [
    {
     "name": "stdout",
     "output_type": "stream",
     "text": [
      "2.5 of 5 bubbles\n"
     ]
    }
   ],
   "source": [
    "airline_rating= flights[0].find_element_by_xpath('.//div[@class=\"ratingsSummary column\"]/div[1]//span').get_attribute('alt')\n",
    "print(airline_rating)"
   ]
  },
  {
   "cell_type": "code",
   "execution_count": 377,
   "metadata": {
    "collapsed": true
   },
   "outputs": [],
   "source": [
    "review_driver= webdriver.Chrome(r\"C:\\Users\\hans\\chromedriver.exe\")"
   ]
  },
  {
   "cell_type": "code",
   "execution_count": 378,
   "metadata": {
    "collapsed": true
   },
   "outputs": [],
   "source": [
    "review_url= flights[0].find_element_by_xpath('.//div[@class=\"footer\"]/a').get_attribute('href')"
   ]
  },
  {
   "cell_type": "code",
   "execution_count": 379,
   "metadata": {},
   "outputs": [],
   "source": [
    "review_driver.get(review_url)"
   ]
  },
  {
   "cell_type": "code",
   "execution_count": 380,
   "metadata": {},
   "outputs": [],
   "source": [
    "review_summary=review_driver.find_element_by_class_name('barChart')"
   ]
  },
  {
   "cell_type": "code",
   "execution_count": 381,
   "metadata": {
    "collapsed": true
   },
   "outputs": [],
   "source": [
    "legroom= review_summary.find_element_by_xpath('./li[1]/div[1]//span').get_attribute('alt')\n",
    "seat_comfort= review_summary.find_element_by_xpath('./li[1]/div[2]//span').get_attribute('alt')\n",
    "airline_name= review_driver.find_element_by_class_name('heading_height').text"
   ]
  },
  {
   "cell_type": "code",
   "execution_count": 382,
   "metadata": {},
   "outputs": [
    {
     "name": "stdout",
     "output_type": "stream",
     "text": [
      "2.5 of 5 bubbles,2.5 of 5 bubbles,Frontier Airlines\n"
     ]
    }
   ],
   "source": [
    "print(\"{},{},{}\" .format(legroom, seat_comfort,airline_name))"
   ]
  },
  {
   "cell_type": "code",
   "execution_count": 383,
   "metadata": {},
   "outputs": [
    {
     "data": {
      "text/plain": [
       "1508352541.7186658"
      ]
     },
     "execution_count": 383,
     "metadata": {},
     "output_type": "execute_result"
    }
   ],
   "source": [
    "time.time()"
   ]
  },
  {
   "cell_type": "code",
   "execution_count": null,
   "metadata": {
    "collapsed": true
   },
   "outputs": [],
   "source": []
  }
 ],
 "metadata": {
  "kernelspec": {
   "display_name": "Python 3",
   "language": "python",
   "name": "python3"
  },
  "language_info": {
   "codemirror_mode": {
    "name": "ipython",
    "version": 3
   },
   "file_extension": ".py",
   "mimetype": "text/x-python",
   "name": "python",
   "nbconvert_exporter": "python",
   "pygments_lexer": "ipython3",
   "version": "3.6.2"
  }
 },
 "nbformat": 4,
 "nbformat_minor": 2
}
